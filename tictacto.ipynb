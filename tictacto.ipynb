{
 "cells": [
  {
   "cell_type": "code",
   "execution_count": 3,
   "metadata": {},
   "outputs": [],
   "source": [
    "from IPython.display import clear_output\n",
    "def display_board(board):\n",
    "    print(board[1]+ '|'+board[2]+ '|'+board[3])\n",
    "    print(board[4]+ '|'+board[5]+ '|'+board[6])\n",
    "    print(board[7]+ '|'+board[8]+ '|'+board[9])"
   ]
  },
  {
   "cell_type": "code",
   "execution_count": 11,
   "metadata": {},
   "outputs": [
    {
     "name": "stdout",
     "output_type": "stream",
     "text": [
      "x|0|h\n",
      "u|e|o\n",
      "x|o|x\n",
      "x|0|h\n",
      "u|e|o\n",
      "x|o|x\n",
      "x|0|h\n",
      "u|e|o\n",
      "x|o|x\n"
     ]
    }
   ],
   "source": [
    "test_board=[\"x\",'x','0','h','u','e','o','x','o','x']\n",
    "display_board(test_board)\n",
    "display_board(test_board)\n",
    "display_board(test_board)"
   ]
  },
  {
   "cell_type": "code",
   "execution_count": null,
   "metadata": {},
   "outputs": [],
   "source": []
  },
  {
   "cell_type": "code",
   "execution_count": null,
   "metadata": {},
   "outputs": [],
   "source": []
  }
 ],
 "metadata": {
  "kernelspec": {
   "display_name": "Python 3",
   "language": "python",
   "name": "python3"
  },
  "language_info": {
   "codemirror_mode": {
    "name": "ipython",
    "version": 3
   },
   "file_extension": ".py",
   "mimetype": "text/x-python",
   "name": "python",
   "nbconvert_exporter": "python",
   "pygments_lexer": "ipython3",
   "version": "3.7.6"
  }
 },
 "nbformat": 4,
 "nbformat_minor": 4
}
